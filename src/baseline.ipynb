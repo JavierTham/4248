{
 "cells": [
  {
   "cell_type": "code",
   "execution_count": 1,
   "metadata": {},
   "outputs": [
    {
     "name": "stderr",
     "output_type": "stream",
     "text": [
      "/Users/javier/miniforge3/envs/cs4248/lib/python3.10/site-packages/tqdm/auto.py:21: TqdmWarning: IProgress not found. Please update jupyter and ipywidgets. See https://ipywidgets.readthedocs.io/en/stable/user_install.html\n",
      "  from .autonotebook import tqdm as notebook_tqdm\n"
     ]
    }
   ],
   "source": [
    "import pandas as pd\n",
    "import numpy as np\n",
    "\n",
    "import torch\n",
    "from torch.utils.data import Dataset, TensorDataset, DataLoader\n",
    "from torch.optim import AdamW\n",
    "from torch.nn import CrossEntropyLoss\n",
    "\n",
    "from transformers import get_scheduler\n",
    "from transformers import Trainer, TrainingArguments\n",
    "from transformers import RobertaTokenizer, RobertaForSequenceClassification, AutoTokenizer\n",
    "\n",
    "\n",
    "from sklearn.metrics import f1_score, accuracy_score"
   ]
  },
  {
   "cell_type": "markdown",
   "metadata": {},
   "source": [
    "# RoBERTa classifier"
   ]
  },
  {
   "cell_type": "markdown",
   "metadata": {},
   "source": [
    "---"
   ]
  },
  {
   "cell_type": "code",
   "execution_count": 2,
   "metadata": {},
   "outputs": [],
   "source": [
    "label_to_id = {\"entailment\": 0, \"neutral\": 1, \"contradiction\": 2}\n",
    "id_to_label = {v: k for k, v in label_to_id.items()}"
   ]
  },
  {
   "cell_type": "code",
   "execution_count": 3,
   "metadata": {},
   "outputs": [],
   "source": [
    "def renameColumns(df):\n",
    "    return df.rename(columns={'Sentence1': 'premise', 'Sentence2': 'hypothesis', 'Explanation_1': 'explanation'})\n",
    "\n",
    "def filterNan(df):\n",
    "    return df.dropna()\n",
    "\n",
    "def convert_to_tensors(df):\n",
    "    return torch.tensor(df.values)\n",
    "\n",
    "def encode_labels(df):\n",
    "    return df.apply(lambda x: label_to_id[x])\n"
   ]
  },
  {
   "cell_type": "code",
   "execution_count": 4,
   "metadata": {},
   "outputs": [],
   "source": [
    "class eSNLIDataset(Dataset):\n",
    "    def __init__(self, df, tokenizer, train=True):\n",
    "        self.df = df\n",
    "        self.train = train\n",
    "        self.tokenizer = tokenizer\n",
    "        self.premise_template = '\"{}\"'\n",
    "        self.hypothesis_explanation_template = '\"{}\" because {}'\n",
    "\n",
    "    def __len__(self):\n",
    "        return len(self.df)\n",
    "\n",
    "    def __getitem__(self, idx):\n",
    "        example = self.df.iloc[idx,:]\n",
    "        premise = example[\"premise\"]\n",
    "        hypothesis = example[\"hypothesis\"]\n",
    "        explanation = example[\"explanation\"]\n",
    "\n",
    "        premise = self.premise_template.format(premise)\n",
    "        hypothesis = self.hypothesis_explanation_template.format(hypothesis, explanation)\n",
    "\n",
    "        if self.train:\n",
    "            label = example[\"gold_label\"]\n",
    "            return premise, hypothesis, label\n",
    "        \n",
    "        return premise, hypothesis"
   ]
  },
  {
   "cell_type": "code",
   "execution_count": 5,
   "metadata": {},
   "outputs": [],
   "source": [
    "def calc_f1_score(predicted_classes, actual_labels):\n",
    "    return f1_score(predicted_classes, actual_labels, average='weighted'), f1_score(predicted_classes, actual_labels, average='micro'), f1_score(predicted_classes, actual_labels, average='macro')"
   ]
  },
  {
   "cell_type": "markdown",
   "metadata": {},
   "source": [
    "## Train using Trainer"
   ]
  },
  {
   "cell_type": "code",
   "execution_count": 6,
   "metadata": {},
   "outputs": [],
   "source": [
    "df_train1 = pd.read_csv('../data/esnli_train_1.csv')\n",
    "df_train2 = pd.read_csv('../data/esnli_train_2.csv')\n",
    "df_train = pd.concat((df_train1, df_train2), axis=0)\n",
    "df_dev = pd.read_csv('../data/esnli_dev.csv')\n",
    "df_test = pd.read_csv('../data/esnli_test.csv')"
   ]
  },
  {
   "cell_type": "code",
   "execution_count": 7,
   "metadata": {},
   "outputs": [],
   "source": [
    "df_train_renamed = renameColumns(df_train)\n",
    "df_train_cleaned = filterNan(df_train_renamed)\n",
    "df_train_cleaned.loc[:, \"gold_label\"] = encode_labels(df_train_cleaned[\"gold_label\"])\n",
    "df_dev_renamed = renameColumns(df_dev)\n",
    "df_dev_cleaned = filterNan(df_dev_renamed)\n",
    "df_dev_cleaned.loc[:, \"gold_label\"] = encode_labels(df_dev_cleaned[\"gold_label\"])\n",
    "df_test_renamed = renameColumns(df_test)"
   ]
  },
  {
   "cell_type": "code",
   "execution_count": 8,
   "metadata": {},
   "outputs": [
    {
     "name": "stderr",
     "output_type": "stream",
     "text": [
      "Some weights of RobertaForSequenceClassification were not initialized from the model checkpoint at roberta-base and are newly initialized: ['classifier.dense.bias', 'classifier.dense.weight', 'classifier.out_proj.bias', 'classifier.out_proj.weight']\n",
      "You should probably TRAIN this model on a down-stream task to be able to use it for predictions and inference.\n"
     ]
    }
   ],
   "source": [
    "tokenizer = RobertaTokenizer.from_pretrained('roberta-base')\n",
    "model = RobertaForSequenceClassification.from_pretrained('roberta-base', num_labels=3) # <- removed problem_type = multi_label_classification because it is multi-class, not multi-label"
   ]
  },
  {
   "cell_type": "code",
   "execution_count": 9,
   "metadata": {},
   "outputs": [],
   "source": [
    "# for mac\n",
    "device = torch.device(\"mps\" if torch.backends.mps.is_available() else \"cpu\")\n",
    "\n",
    "# for nvidia GPUs\n",
    "# device = torch.device(\"cuda\" if torch.cuda.is_available() else \"cpu\")"
   ]
  },
  {
   "cell_type": "code",
   "execution_count": 10,
   "metadata": {},
   "outputs": [],
   "source": [
    "train_batch_size = 16\n",
    "num_epochs = 1"
   ]
  },
  {
   "cell_type": "code",
   "execution_count": 11,
   "metadata": {},
   "outputs": [],
   "source": [
    "train_dataset = eSNLIDataset(df_train_cleaned, tokenizer)\n",
    "dev_dataset = eSNLIDataset(df_dev_cleaned, tokenizer, train=False)\n",
    "test_dataset = eSNLIDataset(df_test, tokenizer, train=False)"
   ]
  },
  {
   "cell_type": "code",
   "execution_count": 12,
   "metadata": {},
   "outputs": [],
   "source": [
    "train_dataloader = DataLoader(train_dataset, batch_size=train_batch_size)\n",
    "dev_dataloader = DataLoader(dev_dataset, batch_size=train_batch_size)\n",
    "test_dataloader = DataLoader(test_dataset, batch_size=train_batch_size)"
   ]
  },
  {
   "cell_type": "code",
   "execution_count": 13,
   "metadata": {},
   "outputs": [],
   "source": [
    "optimizer = AdamW(model.parameters(), lr=5e-5)\n",
    "num_training_steps = num_epochs * len(train_dataloader) # <- number of batches\n",
    "lr_scheduler = get_scheduler(\n",
    "    name=\"linear\", optimizer=optimizer, num_warmup_steps=0, num_training_steps=num_training_steps\n",
    ")\n",
    "criterion = CrossEntropyLoss()"
   ]
  },
  {
   "cell_type": "code",
   "execution_count": 14,
   "metadata": {},
   "outputs": [],
   "source": [
    "for name, param in model.named_parameters():\n",
    "    if 'classifier' not in name: # classifier layer\n",
    "        param.requires_grad = False"
   ]
  },
  {
   "cell_type": "code",
   "execution_count": 15,
   "metadata": {},
   "outputs": [
    {
     "name": "stdout",
     "output_type": "stream",
     "text": [
      "name: roberta.embeddings.word_embeddings.weight requires_grad: False\n",
      "name: roberta.embeddings.position_embeddings.weight requires_grad: False\n",
      "name: roberta.embeddings.token_type_embeddings.weight requires_grad: False\n",
      "name: roberta.embeddings.LayerNorm.weight requires_grad: False\n",
      "name: roberta.embeddings.LayerNorm.bias requires_grad: False\n",
      "name: roberta.encoder.layer.0.attention.self.query.weight requires_grad: False\n",
      "name: roberta.encoder.layer.0.attention.self.query.bias requires_grad: False\n",
      "name: roberta.encoder.layer.0.attention.self.key.weight requires_grad: False\n",
      "name: roberta.encoder.layer.0.attention.self.key.bias requires_grad: False\n",
      "name: roberta.encoder.layer.0.attention.self.value.weight requires_grad: False\n",
      "name: roberta.encoder.layer.0.attention.self.value.bias requires_grad: False\n",
      "name: roberta.encoder.layer.0.attention.output.dense.weight requires_grad: False\n",
      "name: roberta.encoder.layer.0.attention.output.dense.bias requires_grad: False\n",
      "name: roberta.encoder.layer.0.attention.output.LayerNorm.weight requires_grad: False\n",
      "name: roberta.encoder.layer.0.attention.output.LayerNorm.bias requires_grad: False\n",
      "name: roberta.encoder.layer.0.intermediate.dense.weight requires_grad: False\n",
      "name: roberta.encoder.layer.0.intermediate.dense.bias requires_grad: False\n",
      "name: roberta.encoder.layer.0.output.dense.weight requires_grad: False\n",
      "name: roberta.encoder.layer.0.output.dense.bias requires_grad: False\n",
      "name: roberta.encoder.layer.0.output.LayerNorm.weight requires_grad: False\n",
      "name: roberta.encoder.layer.0.output.LayerNorm.bias requires_grad: False\n",
      "name: roberta.encoder.layer.1.attention.self.query.weight requires_grad: False\n",
      "name: roberta.encoder.layer.1.attention.self.query.bias requires_grad: False\n",
      "name: roberta.encoder.layer.1.attention.self.key.weight requires_grad: False\n",
      "name: roberta.encoder.layer.1.attention.self.key.bias requires_grad: False\n",
      "name: roberta.encoder.layer.1.attention.self.value.weight requires_grad: False\n",
      "name: roberta.encoder.layer.1.attention.self.value.bias requires_grad: False\n",
      "name: roberta.encoder.layer.1.attention.output.dense.weight requires_grad: False\n",
      "name: roberta.encoder.layer.1.attention.output.dense.bias requires_grad: False\n",
      "name: roberta.encoder.layer.1.attention.output.LayerNorm.weight requires_grad: False\n",
      "name: roberta.encoder.layer.1.attention.output.LayerNorm.bias requires_grad: False\n",
      "name: roberta.encoder.layer.1.intermediate.dense.weight requires_grad: False\n",
      "name: roberta.encoder.layer.1.intermediate.dense.bias requires_grad: False\n",
      "name: roberta.encoder.layer.1.output.dense.weight requires_grad: False\n",
      "name: roberta.encoder.layer.1.output.dense.bias requires_grad: False\n",
      "name: roberta.encoder.layer.1.output.LayerNorm.weight requires_grad: False\n",
      "name: roberta.encoder.layer.1.output.LayerNorm.bias requires_grad: False\n",
      "name: roberta.encoder.layer.2.attention.self.query.weight requires_grad: False\n",
      "name: roberta.encoder.layer.2.attention.self.query.bias requires_grad: False\n",
      "name: roberta.encoder.layer.2.attention.self.key.weight requires_grad: False\n",
      "name: roberta.encoder.layer.2.attention.self.key.bias requires_grad: False\n",
      "name: roberta.encoder.layer.2.attention.self.value.weight requires_grad: False\n",
      "name: roberta.encoder.layer.2.attention.self.value.bias requires_grad: False\n",
      "name: roberta.encoder.layer.2.attention.output.dense.weight requires_grad: False\n",
      "name: roberta.encoder.layer.2.attention.output.dense.bias requires_grad: False\n",
      "name: roberta.encoder.layer.2.attention.output.LayerNorm.weight requires_grad: False\n",
      "name: roberta.encoder.layer.2.attention.output.LayerNorm.bias requires_grad: False\n",
      "name: roberta.encoder.layer.2.intermediate.dense.weight requires_grad: False\n",
      "name: roberta.encoder.layer.2.intermediate.dense.bias requires_grad: False\n",
      "name: roberta.encoder.layer.2.output.dense.weight requires_grad: False\n",
      "name: roberta.encoder.layer.2.output.dense.bias requires_grad: False\n",
      "name: roberta.encoder.layer.2.output.LayerNorm.weight requires_grad: False\n",
      "name: roberta.encoder.layer.2.output.LayerNorm.bias requires_grad: False\n",
      "name: roberta.encoder.layer.3.attention.self.query.weight requires_grad: False\n",
      "name: roberta.encoder.layer.3.attention.self.query.bias requires_grad: False\n",
      "name: roberta.encoder.layer.3.attention.self.key.weight requires_grad: False\n",
      "name: roberta.encoder.layer.3.attention.self.key.bias requires_grad: False\n",
      "name: roberta.encoder.layer.3.attention.self.value.weight requires_grad: False\n",
      "name: roberta.encoder.layer.3.attention.self.value.bias requires_grad: False\n",
      "name: roberta.encoder.layer.3.attention.output.dense.weight requires_grad: False\n",
      "name: roberta.encoder.layer.3.attention.output.dense.bias requires_grad: False\n",
      "name: roberta.encoder.layer.3.attention.output.LayerNorm.weight requires_grad: False\n",
      "name: roberta.encoder.layer.3.attention.output.LayerNorm.bias requires_grad: False\n",
      "name: roberta.encoder.layer.3.intermediate.dense.weight requires_grad: False\n",
      "name: roberta.encoder.layer.3.intermediate.dense.bias requires_grad: False\n",
      "name: roberta.encoder.layer.3.output.dense.weight requires_grad: False\n",
      "name: roberta.encoder.layer.3.output.dense.bias requires_grad: False\n",
      "name: roberta.encoder.layer.3.output.LayerNorm.weight requires_grad: False\n",
      "name: roberta.encoder.layer.3.output.LayerNorm.bias requires_grad: False\n",
      "name: roberta.encoder.layer.4.attention.self.query.weight requires_grad: False\n",
      "name: roberta.encoder.layer.4.attention.self.query.bias requires_grad: False\n",
      "name: roberta.encoder.layer.4.attention.self.key.weight requires_grad: False\n",
      "name: roberta.encoder.layer.4.attention.self.key.bias requires_grad: False\n",
      "name: roberta.encoder.layer.4.attention.self.value.weight requires_grad: False\n",
      "name: roberta.encoder.layer.4.attention.self.value.bias requires_grad: False\n",
      "name: roberta.encoder.layer.4.attention.output.dense.weight requires_grad: False\n",
      "name: roberta.encoder.layer.4.attention.output.dense.bias requires_grad: False\n",
      "name: roberta.encoder.layer.4.attention.output.LayerNorm.weight requires_grad: False\n",
      "name: roberta.encoder.layer.4.attention.output.LayerNorm.bias requires_grad: False\n",
      "name: roberta.encoder.layer.4.intermediate.dense.weight requires_grad: False\n",
      "name: roberta.encoder.layer.4.intermediate.dense.bias requires_grad: False\n",
      "name: roberta.encoder.layer.4.output.dense.weight requires_grad: False\n",
      "name: roberta.encoder.layer.4.output.dense.bias requires_grad: False\n",
      "name: roberta.encoder.layer.4.output.LayerNorm.weight requires_grad: False\n",
      "name: roberta.encoder.layer.4.output.LayerNorm.bias requires_grad: False\n",
      "name: roberta.encoder.layer.5.attention.self.query.weight requires_grad: False\n",
      "name: roberta.encoder.layer.5.attention.self.query.bias requires_grad: False\n",
      "name: roberta.encoder.layer.5.attention.self.key.weight requires_grad: False\n",
      "name: roberta.encoder.layer.5.attention.self.key.bias requires_grad: False\n",
      "name: roberta.encoder.layer.5.attention.self.value.weight requires_grad: False\n",
      "name: roberta.encoder.layer.5.attention.self.value.bias requires_grad: False\n",
      "name: roberta.encoder.layer.5.attention.output.dense.weight requires_grad: False\n",
      "name: roberta.encoder.layer.5.attention.output.dense.bias requires_grad: False\n",
      "name: roberta.encoder.layer.5.attention.output.LayerNorm.weight requires_grad: False\n",
      "name: roberta.encoder.layer.5.attention.output.LayerNorm.bias requires_grad: False\n",
      "name: roberta.encoder.layer.5.intermediate.dense.weight requires_grad: False\n",
      "name: roberta.encoder.layer.5.intermediate.dense.bias requires_grad: False\n",
      "name: roberta.encoder.layer.5.output.dense.weight requires_grad: False\n",
      "name: roberta.encoder.layer.5.output.dense.bias requires_grad: False\n",
      "name: roberta.encoder.layer.5.output.LayerNorm.weight requires_grad: False\n",
      "name: roberta.encoder.layer.5.output.LayerNorm.bias requires_grad: False\n",
      "name: roberta.encoder.layer.6.attention.self.query.weight requires_grad: False\n",
      "name: roberta.encoder.layer.6.attention.self.query.bias requires_grad: False\n",
      "name: roberta.encoder.layer.6.attention.self.key.weight requires_grad: False\n",
      "name: roberta.encoder.layer.6.attention.self.key.bias requires_grad: False\n",
      "name: roberta.encoder.layer.6.attention.self.value.weight requires_grad: False\n",
      "name: roberta.encoder.layer.6.attention.self.value.bias requires_grad: False\n",
      "name: roberta.encoder.layer.6.attention.output.dense.weight requires_grad: False\n",
      "name: roberta.encoder.layer.6.attention.output.dense.bias requires_grad: False\n",
      "name: roberta.encoder.layer.6.attention.output.LayerNorm.weight requires_grad: False\n",
      "name: roberta.encoder.layer.6.attention.output.LayerNorm.bias requires_grad: False\n",
      "name: roberta.encoder.layer.6.intermediate.dense.weight requires_grad: False\n",
      "name: roberta.encoder.layer.6.intermediate.dense.bias requires_grad: False\n",
      "name: roberta.encoder.layer.6.output.dense.weight requires_grad: False\n",
      "name: roberta.encoder.layer.6.output.dense.bias requires_grad: False\n",
      "name: roberta.encoder.layer.6.output.LayerNorm.weight requires_grad: False\n",
      "name: roberta.encoder.layer.6.output.LayerNorm.bias requires_grad: False\n",
      "name: roberta.encoder.layer.7.attention.self.query.weight requires_grad: False\n",
      "name: roberta.encoder.layer.7.attention.self.query.bias requires_grad: False\n",
      "name: roberta.encoder.layer.7.attention.self.key.weight requires_grad: False\n",
      "name: roberta.encoder.layer.7.attention.self.key.bias requires_grad: False\n",
      "name: roberta.encoder.layer.7.attention.self.value.weight requires_grad: False\n",
      "name: roberta.encoder.layer.7.attention.self.value.bias requires_grad: False\n",
      "name: roberta.encoder.layer.7.attention.output.dense.weight requires_grad: False\n",
      "name: roberta.encoder.layer.7.attention.output.dense.bias requires_grad: False\n",
      "name: roberta.encoder.layer.7.attention.output.LayerNorm.weight requires_grad: False\n",
      "name: roberta.encoder.layer.7.attention.output.LayerNorm.bias requires_grad: False\n",
      "name: roberta.encoder.layer.7.intermediate.dense.weight requires_grad: False\n",
      "name: roberta.encoder.layer.7.intermediate.dense.bias requires_grad: False\n",
      "name: roberta.encoder.layer.7.output.dense.weight requires_grad: False\n",
      "name: roberta.encoder.layer.7.output.dense.bias requires_grad: False\n",
      "name: roberta.encoder.layer.7.output.LayerNorm.weight requires_grad: False\n",
      "name: roberta.encoder.layer.7.output.LayerNorm.bias requires_grad: False\n",
      "name: roberta.encoder.layer.8.attention.self.query.weight requires_grad: False\n",
      "name: roberta.encoder.layer.8.attention.self.query.bias requires_grad: False\n",
      "name: roberta.encoder.layer.8.attention.self.key.weight requires_grad: False\n",
      "name: roberta.encoder.layer.8.attention.self.key.bias requires_grad: False\n",
      "name: roberta.encoder.layer.8.attention.self.value.weight requires_grad: False\n",
      "name: roberta.encoder.layer.8.attention.self.value.bias requires_grad: False\n",
      "name: roberta.encoder.layer.8.attention.output.dense.weight requires_grad: False\n",
      "name: roberta.encoder.layer.8.attention.output.dense.bias requires_grad: False\n",
      "name: roberta.encoder.layer.8.attention.output.LayerNorm.weight requires_grad: False\n",
      "name: roberta.encoder.layer.8.attention.output.LayerNorm.bias requires_grad: False\n",
      "name: roberta.encoder.layer.8.intermediate.dense.weight requires_grad: False\n",
      "name: roberta.encoder.layer.8.intermediate.dense.bias requires_grad: False\n",
      "name: roberta.encoder.layer.8.output.dense.weight requires_grad: False\n",
      "name: roberta.encoder.layer.8.output.dense.bias requires_grad: False\n",
      "name: roberta.encoder.layer.8.output.LayerNorm.weight requires_grad: False\n",
      "name: roberta.encoder.layer.8.output.LayerNorm.bias requires_grad: False\n",
      "name: roberta.encoder.layer.9.attention.self.query.weight requires_grad: False\n",
      "name: roberta.encoder.layer.9.attention.self.query.bias requires_grad: False\n",
      "name: roberta.encoder.layer.9.attention.self.key.weight requires_grad: False\n",
      "name: roberta.encoder.layer.9.attention.self.key.bias requires_grad: False\n",
      "name: roberta.encoder.layer.9.attention.self.value.weight requires_grad: False\n",
      "name: roberta.encoder.layer.9.attention.self.value.bias requires_grad: False\n",
      "name: roberta.encoder.layer.9.attention.output.dense.weight requires_grad: False\n",
      "name: roberta.encoder.layer.9.attention.output.dense.bias requires_grad: False\n",
      "name: roberta.encoder.layer.9.attention.output.LayerNorm.weight requires_grad: False\n",
      "name: roberta.encoder.layer.9.attention.output.LayerNorm.bias requires_grad: False\n",
      "name: roberta.encoder.layer.9.intermediate.dense.weight requires_grad: False\n",
      "name: roberta.encoder.layer.9.intermediate.dense.bias requires_grad: False\n",
      "name: roberta.encoder.layer.9.output.dense.weight requires_grad: False\n",
      "name: roberta.encoder.layer.9.output.dense.bias requires_grad: False\n",
      "name: roberta.encoder.layer.9.output.LayerNorm.weight requires_grad: False\n",
      "name: roberta.encoder.layer.9.output.LayerNorm.bias requires_grad: False\n",
      "name: roberta.encoder.layer.10.attention.self.query.weight requires_grad: False\n",
      "name: roberta.encoder.layer.10.attention.self.query.bias requires_grad: False\n",
      "name: roberta.encoder.layer.10.attention.self.key.weight requires_grad: False\n",
      "name: roberta.encoder.layer.10.attention.self.key.bias requires_grad: False\n",
      "name: roberta.encoder.layer.10.attention.self.value.weight requires_grad: False\n",
      "name: roberta.encoder.layer.10.attention.self.value.bias requires_grad: False\n",
      "name: roberta.encoder.layer.10.attention.output.dense.weight requires_grad: False\n",
      "name: roberta.encoder.layer.10.attention.output.dense.bias requires_grad: False\n",
      "name: roberta.encoder.layer.10.attention.output.LayerNorm.weight requires_grad: False\n",
      "name: roberta.encoder.layer.10.attention.output.LayerNorm.bias requires_grad: False\n",
      "name: roberta.encoder.layer.10.intermediate.dense.weight requires_grad: False\n",
      "name: roberta.encoder.layer.10.intermediate.dense.bias requires_grad: False\n",
      "name: roberta.encoder.layer.10.output.dense.weight requires_grad: False\n",
      "name: roberta.encoder.layer.10.output.dense.bias requires_grad: False\n",
      "name: roberta.encoder.layer.10.output.LayerNorm.weight requires_grad: False\n",
      "name: roberta.encoder.layer.10.output.LayerNorm.bias requires_grad: False\n",
      "name: roberta.encoder.layer.11.attention.self.query.weight requires_grad: False\n",
      "name: roberta.encoder.layer.11.attention.self.query.bias requires_grad: False\n",
      "name: roberta.encoder.layer.11.attention.self.key.weight requires_grad: False\n",
      "name: roberta.encoder.layer.11.attention.self.key.bias requires_grad: False\n",
      "name: roberta.encoder.layer.11.attention.self.value.weight requires_grad: False\n",
      "name: roberta.encoder.layer.11.attention.self.value.bias requires_grad: False\n",
      "name: roberta.encoder.layer.11.attention.output.dense.weight requires_grad: False\n",
      "name: roberta.encoder.layer.11.attention.output.dense.bias requires_grad: False\n",
      "name: roberta.encoder.layer.11.attention.output.LayerNorm.weight requires_grad: False\n",
      "name: roberta.encoder.layer.11.attention.output.LayerNorm.bias requires_grad: False\n",
      "name: roberta.encoder.layer.11.intermediate.dense.weight requires_grad: False\n",
      "name: roberta.encoder.layer.11.intermediate.dense.bias requires_grad: False\n",
      "name: roberta.encoder.layer.11.output.dense.weight requires_grad: False\n",
      "name: roberta.encoder.layer.11.output.dense.bias requires_grad: False\n",
      "name: roberta.encoder.layer.11.output.LayerNorm.weight requires_grad: False\n",
      "name: roberta.encoder.layer.11.output.LayerNorm.bias requires_grad: False\n",
      "name: classifier.dense.weight requires_grad: True\n",
      "name: classifier.dense.bias requires_grad: True\n",
      "name: classifier.out_proj.weight requires_grad: True\n",
      "name: classifier.out_proj.bias requires_grad: True\n"
     ]
    }
   ],
   "source": [
    "for name, param in model.named_parameters():\n",
    "    print(\"name:\", name, \"requires_grad:\", param.requires_grad)"
   ]
  },
  {
   "cell_type": "code",
   "execution_count": 16,
   "metadata": {},
   "outputs": [
    {
     "name": "stderr",
     "output_type": "stream",
     "text": [
      "  0%|          | 0/34327 [00:00<?, ?it/s]"
     ]
    },
    {
     "name": "stderr",
     "output_type": "stream",
     "text": [
      " 16%|█▌        | 5548/34327 [12:32<45:49, 10.47it/s]   "
     ]
    }
   ],
   "source": [
    "from tqdm.auto import tqdm\n",
    "\n",
    "progress_bar = tqdm(range(num_training_steps))\n",
    "\n",
    "y_true = []\n",
    "\n",
    "model.to(device)\n",
    "model.train()\n",
    "for epoch in range(num_epochs):\n",
    "    torch.cuda.empty_cache()\n",
    "    for batch in train_dataloader:\n",
    "        premise, hypothesis, labels = batch\n",
    "        y_true.extend(labels)\n",
    "\n",
    "        encoded_input = tokenizer(premise, hypothesis, return_tensors='pt', padding=True, truncation=True).to(device)\n",
    "        outputs = model(**encoded_input)\n",
    "        logits = outputs.logits.to(device)\n",
    "\n",
    "        loss = criterion(logits, labels.to(device))\n",
    "        loss.backward()\n",
    "\n",
    "        optimizer.step()\n",
    "        lr_scheduler.step()\n",
    "        optimizer.zero_grad()\n",
    "        progress_bar.update(1)"
   ]
  },
  {
   "cell_type": "code",
   "execution_count": null,
   "metadata": {},
   "outputs": [
    {
     "name": "stdout",
     "output_type": "stream",
     "text": [
      "(0.4615384615384615, 0.3, 0.15384615384615383)\n"
     ]
    }
   ],
   "source": [
    "# predict after training\n",
    "\n",
    "model.to(device)\n",
    "model.eval()\n",
    "predictions = []\n",
    "\n",
    "with torch.no_grad():\n",
    "    for batch in validation_dataset:\n",
    "        batch_input_ids = batch['input_ids'].unsqueeze(0).to(device)\n",
    "        batch_attention_mask = batch['attention_mask'].unsqueeze(0).to(device)\n",
    "        outputs = model(input_ids=batch_input_ids, attention_mask=batch_attention_mask)\n",
    "        logits = outputs.logits.cpu()\n",
    "\n",
    "        predicted_classes = torch.argmax(logits, dim=1)\n",
    "        predictions.extend(predicted_classes)\n",
    "\n",
    "predictions = torch.stack(predictions)\n",
    "\n",
    "\n",
    "print(calc_f1_score(predictions, actual_labels[split:]))"
   ]
  }
 ],
 "metadata": {
  "kernelspec": {
   "display_name": "cs4248",
   "language": "python",
   "name": "python3"
  },
  "language_info": {
   "codemirror_mode": {
    "name": "ipython",
    "version": 3
   },
   "file_extension": ".py",
   "mimetype": "text/x-python",
   "name": "python",
   "nbconvert_exporter": "python",
   "pygments_lexer": "ipython3",
   "version": "3.10.13"
  }
 },
 "nbformat": 4,
 "nbformat_minor": 2
}
