{
 "cells": [
  {
   "cell_type": "code",
   "execution_count": 1,
   "metadata": {
    "tags": []
   },
   "outputs": [],
   "source": [
    "import pandas as pd\n",
    "import numpy as np\n",
    "\n",
    "import torch\n",
    "import torch.nn as nn\n",
    "from torch.utils.data import Dataset, DataLoader\n",
    "from torch.optim import AdamW\n",
    "from torch.nn import CrossEntropyLoss\n",
    "\n",
    "from transformers import get_scheduler\n",
    "from transformers import RobertaTokenizerFast, RobertaForSequenceClassification\n",
    "from transformers import Trainer, TrainingArguments\n",
    "\n",
    "from sklearn.metrics import f1_score\n",
    "\n",
    "import matplotlib.pyplot as plt"
   ]
  },
  {
   "cell_type": "code",
   "execution_count": 2,
   "metadata": {
    "tags": []
   },
   "outputs": [],
   "source": [
    "label_to_id = {\"entailment\": 0, \"neutral\": 1, \"contradiction\": 2}\n",
    "id_to_label = {v: k for k, v in label_to_id.items()}\n",
    "\n",
    "def renameColumns(df):\n",
    "    return df.rename(columns={'Sentence1': 'premise', 'Sentence2': 'hypothesis', 'Explanation_1': 'explanation'})\n",
    "\n",
    "def filterNan(df):\n",
    "    return df.dropna()\n",
    "\n",
    "def convert_to_tensors(df):\n",
    "    return torch.tensor(df.values)\n",
    "\n",
    "def encode_labels(df):\n",
    "    return df.apply(lambda x: int(label_to_id[x]))\n",
    "\n",
    "template = \"Given that {}, it is hypothesized that {}. {}.\"\n",
    "\n",
    "def tokenize(df, tokenizer):\n",
    "    tokenized_batch = []\n",
    "    for _, row in df.iterrows():\n",
    "        premise = row['premise'].lower()\n",
    "        if premise[-1] in ['.', '!', '?']:\n",
    "            premise = premise[:-1]\n",
    "        hypothesis = row['hypothesis'].lower()\n",
    "        if hypothesis[-1] in ['.', '!', '?']:\n",
    "            hypothesis = hypothesis[:-1]\n",
    "        explanation = row['explanation'].lower()\n",
    "        if explanation[-1] in ['.', '!', '?']:\n",
    "            explanation = explanation[:-1]\n",
    "\n",
    "\n",
    "        encoded_dict = tokenizer.encode_plus(\n",
    "            text = template.format(premise, hypothesis, explanation),\n",
    "            padding=True,\n",
    "            return_tensors='pt',\n",
    "        )\n",
    "        tokenized_batch.append(encoded_dict)\n",
    "    return tokenized_batch\n",
    "\n",
    "def calc_f1_score(predicted_classes, actual_labels):\n",
    "    return f1_score(predicted_classes, actual_labels, average='weighted'), f1_score(predicted_classes, actual_labels, average='micro'), f1_score(predicted_classes, actual_labels, average='macro')"
   ]
  },
  {
   "cell_type": "code",
   "execution_count": 3,
   "metadata": {
    "tags": []
   },
   "outputs": [
    {
     "name": "stderr",
     "output_type": "stream",
     "text": [
      "Some weights of RobertaForSequenceClassification were not initialized from the model checkpoint at roberta-base and are newly initialized: ['classifier.dense.bias', 'classifier.dense.weight', 'classifier.out_proj.bias', 'classifier.out_proj.weight']\n",
      "You should probably TRAIN this model on a down-stream task to be able to use it for predictions and inference.\n"
     ]
    }
   ],
   "source": [
    "tokenizer = RobertaTokenizerFast.from_pretrained('roberta-base')\n",
    "model = RobertaForSequenceClassification.from_pretrained('roberta-base', num_labels=3)\n",
    "\n",
    "# change the model's classifier to a smaller one\n",
    "dense = nn.Linear(768, 256)\n",
    "out = nn.Linear(256, 3)\n",
    "model.classifier.dense = dense\n",
    "model.classifier.out_proj = out\n",
    "\n",
    "# freeze all the parameters in the base model\n",
    "for name, param in model.named_parameters():\n",
    "    param.requires_grad = False\n",
    "\n",
    "# only train the classification head\n",
    "for param in model.classifier.parameters():\n",
    "    param.requires_grad = True"
   ]
  },
  {
   "cell_type": "code",
   "execution_count": 4,
   "metadata": {
    "tags": []
   },
   "outputs": [],
   "source": [
    "premise_template = 'Given that {}, it is hypothesized that {}.'\n",
    "explanation_template = 'This is {} because {}.'\n",
    "\n",
    "class eSNLIDataset(Dataset):\n",
    "    def __init__(self, df, tokenizer, train=True):\n",
    "        self.df = df\n",
    "        self.train = train\n",
    "\n",
    "    def __len__(self):\n",
    "        return len(self.df)\n",
    "\n",
    "    def __getitem__(self, idx):\n",
    "        example = self.df.iloc[idx,:]\n",
    "        premise = example[\"premise\"]\n",
    "        hypothesis = example[\"hypothesis\"]\n",
    "        explanation = example[\"explanation\"]\n",
    "\n",
    "        if premise[-1] in ['.', '!', '?']:\n",
    "            premise = premise[:-1]\n",
    "        if hypothesis[-1] in ['.', '!', '?']:\n",
    "            hypothesis = hypothesis[:-1]\n",
    "        if explanation[-1] in ['.', '!', '?']:\n",
    "            explanation = explanation[:-1]\n",
    "\n",
    "        premise = premise_template.format(premise, hypothesis)\n",
    "        explanation = explanation_template.format(tokenizer.mask_token, explanation)\n",
    "\n",
    "        if self.train:\n",
    "            label = example[\"gold_label\"]\n",
    "            return premise, explanation, label\n",
    "        \n",
    "        return premise, explanation"
   ]
  },
  {
   "cell_type": "code",
   "execution_count": 5,
   "metadata": {
    "tags": []
   },
   "outputs": [],
   "source": [
    "df_train1 = pd.read_csv('esnli_train_1.csv')\n",
    "df_train2 = pd.read_csv('esnli_train_2.csv')\n",
    "df_train = pd.concat((df_train1, df_train2), axis=0)\n",
    "\n",
    "df_dev = pd.read_csv('esnli_dev.csv')\n",
    "df_test = pd.read_csv('esnli_test.csv')"
   ]
  },
  {
   "cell_type": "code",
   "execution_count": 6,
   "metadata": {
    "tags": []
   },
   "outputs": [],
   "source": [
    "df_train_renamed = renameColumns(df_train)\n",
    "df_train_cleaned = filterNan(df_train_renamed)\n",
    "df_train_cleaned.loc[:, \"gold_label\"] = encode_labels(df_train_cleaned[\"gold_label\"])\n",
    "df_train_final = df_train_cleaned.loc[:, [\"gold_label\", \"premise\", \"hypothesis\", \"explanation\"]]\n",
    "\n",
    "df_train_final = df_train_final.sample(frac=0.20, random_state=0).reset_index(drop=True)\n",
    "\n",
    "df_dev_renamed = renameColumns(df_dev)\n",
    "df_dev_cleaned = filterNan(df_dev_renamed)\n",
    "df_dev_cleaned.loc[:, \"gold_label\"] = encode_labels(df_dev_cleaned[\"gold_label\"])\n",
    "df_dev_final = df_dev_cleaned.loc[:, [\"gold_label\", \"premise\", \"hypothesis\", \"explanation\"]]\n",
    "\n",
    "df_test_renamed = renameColumns(df_test)"
   ]
  },
  {
   "cell_type": "code",
   "execution_count": 7,
   "metadata": {
    "tags": []
   },
   "outputs": [],
   "source": [
    "from sklearn.model_selection import train_test_split\n",
    "num_epochs = 5\n",
    "train_batch_size = 64\n",
    "\n",
    "train_final_df, val_final_df = train_test_split(df_train_final, test_size=0.25, random_state=0)  # Adjusted for clarification\n",
    "train_dataset = eSNLIDataset(train_final_df, tokenizer)\n",
    "val_dataset = eSNLIDataset(val_final_df, tokenizer)"
   ]
  },
  {
   "cell_type": "code",
   "execution_count": 8,
   "metadata": {
    "tags": []
   },
   "outputs": [],
   "source": [
    "train_dataset = eSNLIDataset(df_train_final, tokenizer)\n",
    "dev_dataset = eSNLIDataset(df_dev_final, tokenizer, train=False)\n",
    "test_dataset = eSNLIDataset(df_test, tokenizer, train=False)\n",
    " \n",
    "train_dataloader = DataLoader(train_dataset, batch_size=train_batch_size)\n",
    "dev_dataloader = DataLoader(dev_dataset, batch_size=train_batch_size)\n",
    "test_dataloader = DataLoader(test_dataset, batch_size=train_batch_size)"
   ]
  },
  {
   "cell_type": "code",
   "execution_count": 8,
   "metadata": {
    "tags": []
   },
   "outputs": [],
   "source": [
    "# for mac\n",
    "# device = torch.device(\"mps\" if torch.backends.mps.is_available() else \"cpu\")\n",
    "\n",
    "# for nvidia GPUs\n",
    "device = torch.device(\"cuda\" if torch.cuda.is_available() else \"cpu\")"
   ]
  },
  {
   "cell_type": "code",
   "execution_count": null,
   "metadata": {
    "tags": []
   },
   "outputs": [
    {
     "name": "stderr",
     "output_type": "stream",
     "text": [
      "2024-04-09 16:33:57,179\tINFO worker.py:1715 -- Started a local Ray instance. View the dashboard at \u001b[1m\u001b[32m127.0.0.1:8265 \u001b[39m\u001b[22m\n",
      "2024-04-09 16:33:58,150\tINFO tune.py:220 -- Initializing Ray automatically. For cluster usage or custom Ray initialization, call `ray.init(...)` before `tune.run(...)`.\n",
      "2024-04-09 16:33:58,153\tINFO tune.py:583 -- [output] This uses the legacy output and progress reporter, as Jupyter notebooks are not supported by the new engine, yet. For more information, please see https://github.com/ray-project/ray/issues/36949\n"
     ]
    },
    {
     "data": {
      "text/html": [
       "<div class=\"tuneStatus\">\n",
       "  <div style=\"display: flex;flex-direction: row\">\n",
       "    <div style=\"display: flex;flex-direction: column;\">\n",
       "      <h3>Tune Status</h3>\n",
       "      <table>\n",
       "<tbody>\n",
       "<tr><td>Current time:</td><td>2024-04-09 16:44:10</td></tr>\n",
       "<tr><td>Running for: </td><td>00:10:12.14        </td></tr>\n",
       "<tr><td>Memory:      </td><td>4.5/14.6 GiB       </td></tr>\n",
       "</tbody>\n",
       "</table>\n",
       "    </div>\n",
       "    <div class=\"vDivider\"></div>\n",
       "    <div class=\"systemInfo\">\n",
       "      <h3>System Info</h3>\n",
       "      Using FIFO scheduling algorithm.<br>Logical resource usage: 4.0/4 CPUs, 1.0/1 GPUs (0.0/1.0 accelerator_type:T4)\n",
       "    </div>\n",
       "    \n",
       "  </div>\n",
       "  <div class=\"hDivider\"></div>\n",
       "  <div class=\"trialStatus\">\n",
       "    <h3>Trial Status</h3>\n",
       "    <table>\n",
       "<thead>\n",
       "<tr><th>Trial name             </th><th>status  </th><th>loc               </th><th style=\"text-align: right;\">    lr</th><th>optimizer  </th><th style=\"text-align: right;\">  train_batch_size</th><th style=\"text-align: right;\">  weight_decay</th><th style=\"text-align: right;\">  iter</th><th style=\"text-align: right;\">  total time (s)</th><th style=\"text-align: right;\">   loss</th><th style=\"text-align: right;\">  val_loss</th><th style=\"text-align: right;\">  accuracy</th></tr>\n",
       "</thead>\n",
       "<tbody>\n",
       "<tr><td>train_model_f6f38_00000</td><td>RUNNING </td><td>10.140.0.4:3343777</td><td style=\"text-align: right;\">1e-06 </td><td>AdamW      </td><td style=\"text-align: right;\">                16</td><td style=\"text-align: right;\">          0.01</td><td style=\"text-align: right;\">     1</td><td style=\"text-align: right;\">         488.546</td><td style=\"text-align: right;\">1.09877</td><td style=\"text-align: right;\">   1.09594</td><td style=\"text-align: right;\">  0.469558</td></tr>\n",
       "<tr><td>train_model_f6f38_00001</td><td>PENDING </td><td>                  </td><td style=\"text-align: right;\">1e-05 </td><td>SGD        </td><td style=\"text-align: right;\">                16</td><td style=\"text-align: right;\">          0.01</td><td style=\"text-align: right;\">      </td><td style=\"text-align: right;\">                </td><td style=\"text-align: right;\">       </td><td style=\"text-align: right;\">          </td><td style=\"text-align: right;\">          </td></tr>\n",
       "<tr><td>train_model_f6f38_00002</td><td>PENDING </td><td>                  </td><td style=\"text-align: right;\">0.0001</td><td>SGD        </td><td style=\"text-align: right;\">                16</td><td style=\"text-align: right;\">          0.01</td><td style=\"text-align: right;\">      </td><td style=\"text-align: right;\">                </td><td style=\"text-align: right;\">       </td><td style=\"text-align: right;\">          </td><td style=\"text-align: right;\">          </td></tr>\n",
       "<tr><td>train_model_f6f38_00003</td><td>PENDING </td><td>                  </td><td style=\"text-align: right;\">0.001 </td><td>AdamW      </td><td style=\"text-align: right;\">                32</td><td style=\"text-align: right;\">          0.01</td><td style=\"text-align: right;\">      </td><td style=\"text-align: right;\">                </td><td style=\"text-align: right;\">       </td><td style=\"text-align: right;\">          </td><td style=\"text-align: right;\">          </td></tr>\n",
       "<tr><td>train_model_f6f38_00004</td><td>PENDING </td><td>                  </td><td style=\"text-align: right;\">1e-06 </td><td>Adam       </td><td style=\"text-align: right;\">                32</td><td style=\"text-align: right;\">          0.03</td><td style=\"text-align: right;\">      </td><td style=\"text-align: right;\">                </td><td style=\"text-align: right;\">       </td><td style=\"text-align: right;\">          </td><td style=\"text-align: right;\">          </td></tr>\n",
       "<tr><td>train_model_f6f38_00005</td><td>PENDING </td><td>                  </td><td style=\"text-align: right;\">1e-05 </td><td>AdamW      </td><td style=\"text-align: right;\">                16</td><td style=\"text-align: right;\">          0.03</td><td style=\"text-align: right;\">      </td><td style=\"text-align: right;\">                </td><td style=\"text-align: right;\">       </td><td style=\"text-align: right;\">          </td><td style=\"text-align: right;\">          </td></tr>\n",
       "<tr><td>train_model_f6f38_00006</td><td>PENDING </td><td>                  </td><td style=\"text-align: right;\">0.0001</td><td>Adam       </td><td style=\"text-align: right;\">                16</td><td style=\"text-align: right;\">          0.03</td><td style=\"text-align: right;\">      </td><td style=\"text-align: right;\">                </td><td style=\"text-align: right;\">       </td><td style=\"text-align: right;\">          </td><td style=\"text-align: right;\">          </td></tr>\n",
       "<tr><td>train_model_f6f38_00007</td><td>PENDING </td><td>                  </td><td style=\"text-align: right;\">0.001 </td><td>Adam       </td><td style=\"text-align: right;\">                32</td><td style=\"text-align: right;\">          0.03</td><td style=\"text-align: right;\">      </td><td style=\"text-align: right;\">                </td><td style=\"text-align: right;\">       </td><td style=\"text-align: right;\">          </td><td style=\"text-align: right;\">          </td></tr>\n",
       "<tr><td>train_model_f6f38_00008</td><td>PENDING </td><td>                  </td><td style=\"text-align: right;\">1e-06 </td><td>Adam       </td><td style=\"text-align: right;\">                32</td><td style=\"text-align: right;\">          0.05</td><td style=\"text-align: right;\">      </td><td style=\"text-align: right;\">                </td><td style=\"text-align: right;\">       </td><td style=\"text-align: right;\">          </td><td style=\"text-align: right;\">          </td></tr>\n",
       "<tr><td>train_model_f6f38_00009</td><td>PENDING </td><td>                  </td><td style=\"text-align: right;\">1e-05 </td><td>Adam       </td><td style=\"text-align: right;\">                32</td><td style=\"text-align: right;\">          0.05</td><td style=\"text-align: right;\">      </td><td style=\"text-align: right;\">                </td><td style=\"text-align: right;\">       </td><td style=\"text-align: right;\">          </td><td style=\"text-align: right;\">          </td></tr>\n",
       "<tr><td>train_model_f6f38_00010</td><td>PENDING </td><td>                  </td><td style=\"text-align: right;\">0.0001</td><td>SGD        </td><td style=\"text-align: right;\">                64</td><td style=\"text-align: right;\">          0.05</td><td style=\"text-align: right;\">      </td><td style=\"text-align: right;\">                </td><td style=\"text-align: right;\">       </td><td style=\"text-align: right;\">          </td><td style=\"text-align: right;\">          </td></tr>\n",
       "<tr><td>train_model_f6f38_00011</td><td>PENDING </td><td>                  </td><td style=\"text-align: right;\">0.001 </td><td>Adam       </td><td style=\"text-align: right;\">                32</td><td style=\"text-align: right;\">          0.05</td><td style=\"text-align: right;\">      </td><td style=\"text-align: right;\">                </td><td style=\"text-align: right;\">       </td><td style=\"text-align: right;\">          </td><td style=\"text-align: right;\">          </td></tr>\n",
       "<tr><td>train_model_f6f38_00012</td><td>PENDING </td><td>                  </td><td style=\"text-align: right;\">1e-06 </td><td>SGD        </td><td style=\"text-align: right;\">                32</td><td style=\"text-align: right;\">          0.08</td><td style=\"text-align: right;\">      </td><td style=\"text-align: right;\">                </td><td style=\"text-align: right;\">       </td><td style=\"text-align: right;\">          </td><td style=\"text-align: right;\">          </td></tr>\n",
       "<tr><td>train_model_f6f38_00013</td><td>PENDING </td><td>                  </td><td style=\"text-align: right;\">1e-05 </td><td>SGD        </td><td style=\"text-align: right;\">                64</td><td style=\"text-align: right;\">          0.08</td><td style=\"text-align: right;\">      </td><td style=\"text-align: right;\">                </td><td style=\"text-align: right;\">       </td><td style=\"text-align: right;\">          </td><td style=\"text-align: right;\">          </td></tr>\n",
       "<tr><td>train_model_f6f38_00014</td><td>PENDING </td><td>                  </td><td style=\"text-align: right;\">0.0001</td><td>SGD        </td><td style=\"text-align: right;\">                16</td><td style=\"text-align: right;\">          0.08</td><td style=\"text-align: right;\">      </td><td style=\"text-align: right;\">                </td><td style=\"text-align: right;\">       </td><td style=\"text-align: right;\">          </td><td style=\"text-align: right;\">          </td></tr>\n",
       "<tr><td>train_model_f6f38_00015</td><td>PENDING </td><td>                  </td><td style=\"text-align: right;\">0.001 </td><td>Adam       </td><td style=\"text-align: right;\">                64</td><td style=\"text-align: right;\">          0.08</td><td style=\"text-align: right;\">      </td><td style=\"text-align: right;\">                </td><td style=\"text-align: right;\">       </td><td style=\"text-align: right;\">          </td><td style=\"text-align: right;\">          </td></tr>\n",
       "<tr><td>train_model_f6f38_00016</td><td>PENDING </td><td>                  </td><td style=\"text-align: right;\">1e-06 </td><td>Adam       </td><td style=\"text-align: right;\">                64</td><td style=\"text-align: right;\">          0.01</td><td style=\"text-align: right;\">      </td><td style=\"text-align: right;\">                </td><td style=\"text-align: right;\">       </td><td style=\"text-align: right;\">          </td><td style=\"text-align: right;\">          </td></tr>\n",
       "</tbody>\n",
       "</table>\n",
       "  </div>\n",
       "</div>\n",
       "<style>\n",
       ".tuneStatus {\n",
       "  color: var(--jp-ui-font-color1);\n",
       "}\n",
       ".tuneStatus .systemInfo {\n",
       "  display: flex;\n",
       "  flex-direction: column;\n",
       "}\n",
       ".tuneStatus td {\n",
       "  white-space: nowrap;\n",
       "}\n",
       ".tuneStatus .trialStatus {\n",
       "  display: flex;\n",
       "  flex-direction: column;\n",
       "}\n",
       ".tuneStatus h3 {\n",
       "  font-weight: bold;\n",
       "}\n",
       ".tuneStatus .hDivider {\n",
       "  border-bottom-width: var(--jp-border-width);\n",
       "  border-bottom-color: var(--jp-border-color0);\n",
       "  border-bottom-style: solid;\n",
       "}\n",
       ".tuneStatus .vDivider {\n",
       "  border-left-width: var(--jp-border-width);\n",
       "  border-left-color: var(--jp-border-color0);\n",
       "  border-left-style: solid;\n",
       "  margin: 0.5em 1em 0.5em 1em;\n",
       "}\n",
       "</style>\n"
      ],
      "text/plain": [
       "<IPython.core.display.HTML object>"
      ]
     },
     "metadata": {},
     "output_type": "display_data"
    },
    {
     "name": "stdout",
     "output_type": "stream",
     "text": [
      "\u001b[33m(raylet)\u001b[0m Warning: The actor ImplicitFunc is very large (36 MiB). Check that its definition is not implicitly capturing a large array or other object in scope. Tip: use ray.put() to put large objects in the Ray object store.\n"
     ]
    },
    {
     "name": "stderr",
     "output_type": "stream",
     "text": [
      "\u001b[36m(train_model pid=3343777)\u001b[0m Some weights of RobertaForSequenceClassification were not initialized from the model checkpoint at roberta-base and are newly initialized: ['classifier.dense.bias', 'classifier.dense.weight', 'classifier.out_proj.bias', 'classifier.out_proj.weight']\n",
      "\u001b[36m(train_model pid=3343777)\u001b[0m You should probably TRAIN this model on a down-stream task to be able to use it for predictions and inference.\n"
     ]
    },
    {
     "data": {
      "text/html": [
       "<div class=\"trialProgress\">\n",
       "  <h3>Trial Progress</h3>\n",
       "  <table>\n",
       "<thead>\n",
       "<tr><th>Trial name             </th><th style=\"text-align: right;\">  accuracy</th><th style=\"text-align: right;\">   loss</th><th style=\"text-align: right;\">  val_loss</th></tr>\n",
       "</thead>\n",
       "<tbody>\n",
       "<tr><td>train_model_f6f38_00000</td><td style=\"text-align: right;\">  0.469558</td><td style=\"text-align: right;\">1.09877</td><td style=\"text-align: right;\">   1.09594</td></tr>\n",
       "</tbody>\n",
       "</table>\n",
       "</div>\n",
       "<style>\n",
       ".trialProgress {\n",
       "  display: flex;\n",
       "  flex-direction: column;\n",
       "  color: var(--jp-ui-font-color1);\n",
       "}\n",
       ".trialProgress h3 {\n",
       "  font-weight: bold;\n",
       "}\n",
       ".trialProgress td {\n",
       "  white-space: nowrap;\n",
       "}\n",
       "</style>\n"
      ],
      "text/plain": [
       "<IPython.core.display.HTML object>"
      ]
     },
     "metadata": {},
     "output_type": "display_data"
    }
   ],
   "source": [
    "from ray import train, tune\n",
    "import os\n",
    "import tempfile\n",
    "import ray\n",
    "from torch.optim import AdamW, SGD, Adam\n",
    "from ray.train import Checkpoint\n",
    "from tqdm.auto import tqdm\n",
    "\n",
    "def train_model(config):\n",
    "    tokenizer = RobertaTokenizerFast.from_pretrained('roberta-base')\n",
    "    model = RobertaForSequenceClassification.from_pretrained('roberta-base', num_labels=3)\n",
    "    device = torch.device(\"cuda\" if torch.cuda.is_available() else \"cpu\")\n",
    "\n",
    "    # change the model's classifier to a smaller one\n",
    "    dense = nn.Linear(768, 256)\n",
    "    out = nn.Linear(256, 3)\n",
    "    model.classifier.dense = dense\n",
    "    model.classifier.out_proj = out\n",
    "\n",
    "    # freeze all the parameters in the base model\n",
    "    for name, param in model.named_parameters():\n",
    "        param.requires_grad = False\n",
    "\n",
    "    # only train the classification head\n",
    "    for param in model.classifier.parameters():\n",
    "        param.requires_grad = True\n",
    "    model.to(device)\n",
    "    train_dataloader = DataLoader(train_dataset, batch_size=config[\"train_batch_size\"])\n",
    "    val_dataloader = DataLoader(val_dataset, batch_size=config[\"train_batch_size\"])\n",
    "    \n",
    "    if config[\"optimizer\"] == \"AdamW\":\n",
    "        optimizer = AdamW(model.parameters(), lr=config[\"lr\"], weight_decay=config[\"weight_decay\"])\n",
    "    elif config[\"optimizer\"] == \"SGD\":\n",
    "        optimizer = SGD(model.parameters(), lr=config[\"lr\"], momentum=0.9)\n",
    "    elif config[\"optimizer\"] == \"Adam\":\n",
    "        optimizer = Adam(model.parameters(), lr=config[\"lr\"], weight_decay=config[\"weight_decay\"])\n",
    "    else:\n",
    "        raise ValueError(\"Unsupported optimizer\")\n",
    "    criterion = CrossEntropyLoss()\n",
    "    checkpoint = train.get_checkpoint()\n",
    "    if checkpoint:\n",
    "        with checkpoint.as_directory() as checkpoint_dir:\n",
    "            checkpoint_path = os.path.join(checkpoint_dir, \"checkpoint\")\n",
    "            model_state, optimizer_state = torch.load(checkpoint_path)\n",
    "            model.load_state_dict(model_state)\n",
    "            optimizer.load_state_dict(optimizer_state)\n",
    "\n",
    "    for epoch in range(num_epoch):\n",
    "        model.train()  # Training phase\n",
    "        train_losses = []\n",
    "        for batch in train_dataloader:\n",
    "            optimizer.zero_grad()\n",
    "\n",
    "            premise, hypothesis, labels = batch\n",
    "            encoded_input = tokenizer(premise, hypothesis, return_tensors=\"pt\", padding=True, truncation=True).to(device)\n",
    "            outputs = model(**encoded_input)\n",
    "            logits = outputs.logits\n",
    "            loss = criterion(logits, labels.to(device))\n",
    "            loss.backward()\n",
    "            optimizer.step()\n",
    "\n",
    "            train_losses.append(loss.item())\n",
    "\n",
    "        # Validation phase\n",
    "        model.eval()\n",
    "        val_loss = 0.0\n",
    "        val_steps = 0\n",
    "        total = 0\n",
    "        correct = 0\n",
    "        for batch in val_dataloader:\n",
    "            with torch.no_grad():\n",
    "                premise, hypothesis, labels = batch\n",
    "                encoded_input = tokenizer(premise, hypothesis, return_tensors=\"pt\", padding=True, truncation=True).to(device)\n",
    "                outputs = model(**encoded_input)\n",
    "                logits = outputs.logits\n",
    "                _, predicted = torch.max(logits.data, 1)\n",
    "                total += labels.size(0)\n",
    "                correct += (predicted == labels.to(device)).sum().item()\n",
    "\n",
    "                loss = criterion(logits, labels.to(device))\n",
    "                val_loss += loss.cpu().numpy()\n",
    "                val_steps += 1\n",
    "\n",
    "        # Calculate metrics\n",
    "        avg_train_loss = sum(train_losses) / len(train_losses)\n",
    "        avg_val_loss = val_loss / val_steps\n",
    "        accuracy = correct / total\n",
    "\n",
    "        metrics = {\n",
    "            \"loss\": avg_train_loss,\n",
    "            \"val_loss\": avg_val_loss,\n",
    "            \"accuracy\": accuracy\n",
    "        }\n",
    "\n",
    "        # Checkpointing\n",
    "        with tempfile.TemporaryDirectory() as temp_checkpoint_dir:\n",
    "            checkpoint_path = os.path.join(temp_checkpoint_dir, \"checkpoint\")\n",
    "            torch.save((model.state_dict(), optimizer.state_dict()), checkpoint_path)\n",
    "\n",
    "            checkpoint = Checkpoint.from_directory(temp_checkpoint_dir)\n",
    "            if ray.train.get_context().get_world_rank() == 0:\n",
    "                train.report(metrics, checkpoint=checkpoint)\n",
    "            else:\n",
    "                train.report(metrics)\n",
    "\n",
    "#     for epoch in range(num_epochs):\n",
    "#         losses = []\n",
    "#         for batch in train_dataloader:\n",
    "#             optimizer.zero_grad()\n",
    "#             premise, hypothesis, labels = batch\n",
    "\n",
    "#             encoded_input = tokenizer(premise, hypothesis, return_tensors=\"pt\",padding=True, truncation=True).to(device)\n",
    "\n",
    "#             outputs = model(**encoded_input)\n",
    "#             logits = outputs.logits.to(device)\n",
    "\n",
    "#             loss = criterion(logits, labels.to(device))\n",
    "#             loss.backward()\n",
    "#             losses.append(loss.item())\n",
    "\n",
    "#             optimizer.step()\n",
    "\n",
    "#         metrics = {\n",
    "#             \"loss\": losses[-1]\n",
    "#         }\n",
    "        \n",
    "#         with tempfile.TemporaryDirectory() as temp_checkpoint_dir:\n",
    "#             checkpoint = Checkpoint.from_directory(temp_checkpoint_dir)\n",
    "#             if ray.train.get_context().get_world_rank() == 0:\n",
    "#                 train.report(metrics, checkpoint=checkpoint)\n",
    "#             else:\n",
    "#                 train.report(metrics, checkpoint=None)\n",
    "\n",
    "\n",
    "config = {\n",
    "    \"lr\": tune.grid_search([1e-6, 1e-5, 1e-4, 1e-3]),\n",
    "    \"weight_decay\": tune.grid_search([0.01, 0.03, 0.05, 0.08]),\n",
    "    \"optimizer\": tune.choice([\"AdamW\", \"SGD\", \"Adam\"]),\n",
    "    \"train_batch_size\": tune.choice([16, 32, 64]),\n",
    "}\n",
    "\n",
    "# config = {\n",
    "#     \"lr\": 1e-6,\n",
    "#     \"weight_decay\": 0.01,\n",
    "#     \"optimizer\": \"AdamW\",\n",
    "#     \"train_batch_size\": 16,\n",
    "# }\n",
    "\n",
    "analysis = tune.run(\n",
    "    train_model,\n",
    "    resources_per_trial={\"cpu\": 4, \"gpu\": 1},\n",
    "    config=config,\n",
    "    num_samples=1000,\n",
    "    stop={\"training_iteration\": 10},\n",
    "    metric=\"loss\",\n",
    "    mode=\"min\",\n",
    ")\n",
    "\n",
    "print(\"Best hyperparameters found were: \", analysis.best_config)"
   ]
  },
  {
   "cell_type": "code",
   "execution_count": null,
   "metadata": {
    "tags": []
   },
   "outputs": [],
   "source": [
    "print(\"here\")"
   ]
  },
  {
   "cell_type": "code",
   "execution_count": null,
   "metadata": {
    "tags": []
   },
   "outputs": [],
   "source": [
    "optimizer = AdamW(model.parameters())\n",
    "                  # lr=5e-6, weight_decay=0.01)\n",
    "num_training_steps = num_epochs * len(train_dataloader) # <- number of batches\n",
    "# lr_scheduler = get_scheduler(\n",
    "#     name=\"linear\", optimizer=optimizer, num_warmup_steps=100, num_training_steps=num_training_steps\n",
    "# )\n",
    "criterion = CrossEntropyLoss()"
   ]
  },
  {
   "cell_type": "code",
   "execution_count": null,
   "metadata": {
    "tags": []
   },
   "outputs": [],
   "source": [
    "from tqdm.auto import tqdm\n",
    "\n",
    "num_training_steps = num_epochs * len(train_dataloader) # <- number of batches\n",
    "\n",
    "progress_bar = tqdm(range(num_training_steps))\n",
    "\n",
    "y_true = []\n",
    "losses = []\n",
    "\n",
    "model.to(device)\n",
    "for epoch in range(num_epochs):\n",
    "    torch.cuda.empty_cache()\n",
    "    for batch in train_dataloader:\n",
    "        premise, hypothesis, labels = batch\n",
    "\n",
    "        encoded_input = tokenizer(premise, hypothesis, return_tensors=\"pt\",padding=True, truncation=True).to(device)\n",
    "        \n",
    "        outputs = model(**encoded_input)\n",
    "        logits = outputs.logits.to(device)\n",
    "\n",
    "        loss = criterion(logits, labels.to(device))\n",
    "        loss.backward()\n",
    "        losses.append(loss.item())\n",
    "\n",
    "        optimizer.step()\n",
    "        # lr_scheduler.step()\n",
    "        optimizer.zero_grad()\n",
    "        progress_bar.update(1)"
   ]
  },
  {
   "cell_type": "code",
   "execution_count": 34,
   "metadata": {
    "tags": []
   },
   "outputs": [
    {
     "data": {
      "image/png": "[encoded data removed]",
      "text/plain": [
       "<Figure size 640x480 with 1 Axes>"
      ]
     },
     "metadata": {},
     "output_type": "display_data"
    }
   ],
   "source": [
    "plt.plot(losses)\n",
    "plt.show()"
   ]
  },
  {
   "cell_type": "code",
   "execution_count": 35,
   "metadata": {
    "tags": []
   },
   "outputs": [],
   "source": [
    "# predict after training\n",
    "model.to(device)\n",
    "model.eval()\n",
    "predictions = []\n",
    "\n",
    "actual_labels = df_dev_final['gold_label'].astype(\"int\")\n",
    "\n",
    "with torch.no_grad():\n",
    "    for batch in dev_dataset:\n",
    "        premise, hypothesis = batch\n",
    "        \n",
    "        encoded_input = tokenizer(premise, hypothesis, return_tensors=\"pt\",padding=True, truncation=True).to(device)\n",
    "\n",
    "        outputs = model(**encoded_input)\n",
    "        logits = outputs.logits.cpu()\n",
    "\n",
    "        predicted_classes = torch.argmax(logits, dim=1)\n",
    "        predicted_classes = [pred.item() for pred in predicted_classes]\n",
    "        predictions.extend(predicted_classes)"
   ]
  },
  {
   "cell_type": "code",
   "execution_count": 36,
   "metadata": {
    "tags": []
   },
   "outputs": [
    {
     "name": "stdout",
     "output_type": "stream",
     "text": [
      "(0.9171976059169357, 0.9176996545417598, 0.9180923836275922)\n"
     ]
    }
   ],
   "source": [
    "print(calc_f1_score(predictions, actual_labels))"
   ]
  },
  {
   "cell_type": "code",
   "execution_count": null,
   "metadata": {},
   "outputs": [],
   "source": []
  },
  {
   "cell_type": "code",
   "execution_count": 37,
   "metadata": {
    "tags": []
   },
   "outputs": [],
   "source": [
    "model.save_pretrained(\"esnli-model-2\")"
   ]
  },
  {
   "cell_type": "code",
   "execution_count": null,
   "metadata": {},
   "outputs": [],
   "source": []
  }
 ],
 "metadata": {
  "environment": {
   "kernel": "python3",
   "name": "common-cu121.m119",
   "type": "gcloud",
   "uri": "us-docker.pkg.dev/deeplearning-platform-release/gcr.io/base-cu121:m119"
  },
  "kernelspec": {
   "display_name": "Python 3 (Local)",
   "language": "python",
   "name": "python3"
  },
  "language_info": {
   "codemirror_mode": {
    "name": "ipython",
    "version": 3
   },
   "file_extension": ".py",
   "mimetype": "text/x-python",
   "name": "python",
   "nbconvert_exporter": "python",
   "pygments_lexer": "ipython3",
   "version": "3.10.14"
  }
 },
 "nbformat": 4,
 "nbformat_minor": 4
}
